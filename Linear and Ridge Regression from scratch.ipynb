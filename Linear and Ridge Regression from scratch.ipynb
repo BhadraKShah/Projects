{
 "cells": [
  {
   "cell_type": "markdown",
   "id": "16e18892",
   "metadata": {},
   "source": [
    "# Linear and ridge regression from scratch"
   ]
  },
  {
   "cell_type": "code",
   "execution_count": 1,
   "id": "d79f703a",
   "metadata": {},
   "outputs": [],
   "source": [
    "#importing libraries\n",
    "import pandas as pd\n",
    "import numpy as np\n",
    "import seaborn as sn\n",
    "import matplotlib.pyplot as plt\n",
    "import time"
   ]
  },
  {
   "cell_type": "code",
   "execution_count": 2,
   "id": "15a5e714",
   "metadata": {},
   "outputs": [],
   "source": [
    "#Reading Data\n",
    "df_i= pd.read_csv(\"insurance.csv\")"
   ]
  },
  {
   "cell_type": "code",
   "execution_count": 3,
   "id": "0d76ff44",
   "metadata": {},
   "outputs": [
    {
     "data": {
      "text/html": [
       "<div>\n",
       "<style scoped>\n",
       "    .dataframe tbody tr th:only-of-type {\n",
       "        vertical-align: middle;\n",
       "    }\n",
       "\n",
       "    .dataframe tbody tr th {\n",
       "        vertical-align: top;\n",
       "    }\n",
       "\n",
       "    .dataframe thead th {\n",
       "        text-align: right;\n",
       "    }\n",
       "</style>\n",
       "<table border=\"1\" class=\"dataframe\">\n",
       "  <thead>\n",
       "    <tr style=\"text-align: right;\">\n",
       "      <th></th>\n",
       "      <th>age</th>\n",
       "      <th>sex</th>\n",
       "      <th>bmi</th>\n",
       "      <th>children</th>\n",
       "      <th>smoker</th>\n",
       "      <th>region</th>\n",
       "      <th>charges</th>\n",
       "    </tr>\n",
       "  </thead>\n",
       "  <tbody>\n",
       "    <tr>\n",
       "      <th>0</th>\n",
       "      <td>19</td>\n",
       "      <td>female</td>\n",
       "      <td>27.900</td>\n",
       "      <td>0</td>\n",
       "      <td>yes</td>\n",
       "      <td>southwest</td>\n",
       "      <td>16884.92400</td>\n",
       "    </tr>\n",
       "    <tr>\n",
       "      <th>1</th>\n",
       "      <td>18</td>\n",
       "      <td>male</td>\n",
       "      <td>33.770</td>\n",
       "      <td>1</td>\n",
       "      <td>no</td>\n",
       "      <td>southeast</td>\n",
       "      <td>1725.55230</td>\n",
       "    </tr>\n",
       "    <tr>\n",
       "      <th>2</th>\n",
       "      <td>28</td>\n",
       "      <td>male</td>\n",
       "      <td>33.000</td>\n",
       "      <td>3</td>\n",
       "      <td>no</td>\n",
       "      <td>southeast</td>\n",
       "      <td>4449.46200</td>\n",
       "    </tr>\n",
       "    <tr>\n",
       "      <th>3</th>\n",
       "      <td>33</td>\n",
       "      <td>male</td>\n",
       "      <td>22.705</td>\n",
       "      <td>0</td>\n",
       "      <td>no</td>\n",
       "      <td>northwest</td>\n",
       "      <td>21984.47061</td>\n",
       "    </tr>\n",
       "    <tr>\n",
       "      <th>4</th>\n",
       "      <td>32</td>\n",
       "      <td>male</td>\n",
       "      <td>28.880</td>\n",
       "      <td>0</td>\n",
       "      <td>no</td>\n",
       "      <td>northwest</td>\n",
       "      <td>3866.85520</td>\n",
       "    </tr>\n",
       "  </tbody>\n",
       "</table>\n",
       "</div>"
      ],
      "text/plain": [
       "   age     sex     bmi  children smoker     region      charges\n",
       "0   19  female  27.900         0    yes  southwest  16884.92400\n",
       "1   18    male  33.770         1     no  southeast   1725.55230\n",
       "2   28    male  33.000         3     no  southeast   4449.46200\n",
       "3   33    male  22.705         0     no  northwest  21984.47061\n",
       "4   32    male  28.880         0     no  northwest   3866.85520"
      ]
     },
     "execution_count": 3,
     "metadata": {},
     "output_type": "execute_result"
    }
   ],
   "source": [
    "#Displaying first five rows\n",
    "df_i.head()"
   ]
  },
  {
   "cell_type": "code",
   "execution_count": 4,
   "id": "e81c134c",
   "metadata": {},
   "outputs": [
    {
     "data": {
      "text/plain": [
       "(1338, 7)"
      ]
     },
     "execution_count": 4,
     "metadata": {},
     "output_type": "execute_result"
    }
   ],
   "source": [
    "#Dimension of the dataset\n",
    "df_i.shape"
   ]
  },
  {
   "cell_type": "code",
   "execution_count": 5,
   "id": "c5962dd1",
   "metadata": {},
   "outputs": [
    {
     "data": {
      "text/plain": [
       "age           int64\n",
       "sex          object\n",
       "bmi         float64\n",
       "children      int64\n",
       "smoker       object\n",
       "region       object\n",
       "charges     float64\n",
       "dtype: object"
      ]
     },
     "execution_count": 5,
     "metadata": {},
     "output_type": "execute_result"
    }
   ],
   "source": [
    "#Displaying datatypes\n",
    "df_i.dtypes"
   ]
  },
  {
   "cell_type": "code",
   "execution_count": 6,
   "id": "a3e4364b",
   "metadata": {},
   "outputs": [
    {
     "data": {
      "text/html": [
       "<div>\n",
       "<style scoped>\n",
       "    .dataframe tbody tr th:only-of-type {\n",
       "        vertical-align: middle;\n",
       "    }\n",
       "\n",
       "    .dataframe tbody tr th {\n",
       "        vertical-align: top;\n",
       "    }\n",
       "\n",
       "    .dataframe thead th {\n",
       "        text-align: right;\n",
       "    }\n",
       "</style>\n",
       "<table border=\"1\" class=\"dataframe\">\n",
       "  <thead>\n",
       "    <tr style=\"text-align: right;\">\n",
       "      <th></th>\n",
       "      <th>age</th>\n",
       "      <th>bmi</th>\n",
       "      <th>children</th>\n",
       "      <th>charges</th>\n",
       "    </tr>\n",
       "  </thead>\n",
       "  <tbody>\n",
       "    <tr>\n",
       "      <th>count</th>\n",
       "      <td>1338.000000</td>\n",
       "      <td>1338.000000</td>\n",
       "      <td>1338.000000</td>\n",
       "      <td>1338.000000</td>\n",
       "    </tr>\n",
       "    <tr>\n",
       "      <th>mean</th>\n",
       "      <td>39.207025</td>\n",
       "      <td>30.663397</td>\n",
       "      <td>1.094918</td>\n",
       "      <td>13270.422265</td>\n",
       "    </tr>\n",
       "    <tr>\n",
       "      <th>std</th>\n",
       "      <td>14.049960</td>\n",
       "      <td>6.098187</td>\n",
       "      <td>1.205493</td>\n",
       "      <td>12110.011237</td>\n",
       "    </tr>\n",
       "    <tr>\n",
       "      <th>min</th>\n",
       "      <td>18.000000</td>\n",
       "      <td>15.960000</td>\n",
       "      <td>0.000000</td>\n",
       "      <td>1121.873900</td>\n",
       "    </tr>\n",
       "    <tr>\n",
       "      <th>25%</th>\n",
       "      <td>27.000000</td>\n",
       "      <td>26.296250</td>\n",
       "      <td>0.000000</td>\n",
       "      <td>4740.287150</td>\n",
       "    </tr>\n",
       "    <tr>\n",
       "      <th>50%</th>\n",
       "      <td>39.000000</td>\n",
       "      <td>30.400000</td>\n",
       "      <td>1.000000</td>\n",
       "      <td>9382.033000</td>\n",
       "    </tr>\n",
       "    <tr>\n",
       "      <th>75%</th>\n",
       "      <td>51.000000</td>\n",
       "      <td>34.693750</td>\n",
       "      <td>2.000000</td>\n",
       "      <td>16639.912515</td>\n",
       "    </tr>\n",
       "    <tr>\n",
       "      <th>max</th>\n",
       "      <td>64.000000</td>\n",
       "      <td>53.130000</td>\n",
       "      <td>5.000000</td>\n",
       "      <td>63770.428010</td>\n",
       "    </tr>\n",
       "  </tbody>\n",
       "</table>\n",
       "</div>"
      ],
      "text/plain": [
       "               age          bmi     children       charges\n",
       "count  1338.000000  1338.000000  1338.000000   1338.000000\n",
       "mean     39.207025    30.663397     1.094918  13270.422265\n",
       "std      14.049960     6.098187     1.205493  12110.011237\n",
       "min      18.000000    15.960000     0.000000   1121.873900\n",
       "25%      27.000000    26.296250     0.000000   4740.287150\n",
       "50%      39.000000    30.400000     1.000000   9382.033000\n",
       "75%      51.000000    34.693750     2.000000  16639.912515\n",
       "max      64.000000    53.130000     5.000000  63770.428010"
      ]
     },
     "execution_count": 6,
     "metadata": {},
     "output_type": "execute_result"
    }
   ],
   "source": [
    "#dataset Stat\n",
    "df_i.describe()"
   ]
  },
  {
   "cell_type": "code",
   "execution_count": 7,
   "id": "ad86966b",
   "metadata": {},
   "outputs": [
    {
     "data": {
      "text/plain": [
       "age         0\n",
       "sex         0\n",
       "bmi         0\n",
       "children    0\n",
       "smoker      0\n",
       "region      0\n",
       "charges     0\n",
       "dtype: int64"
      ]
     },
     "execution_count": 7,
     "metadata": {},
     "output_type": "execute_result"
    }
   ],
   "source": [
    "#Checking for null values\n",
    "df_i.isnull().sum()"
   ]
  },
  {
   "cell_type": "code",
   "execution_count": 8,
   "id": "bc51ed3d",
   "metadata": {},
   "outputs": [],
   "source": [
    "#Changing object to category\n",
    "df_i['smoker'] = df_i['smoker'].astype(\"category\")\n",
    "df_i['region'] = df_i['region'].astype(\"category\")\n"
   ]
  },
  {
   "cell_type": "code",
   "execution_count": 9,
   "id": "2499399e",
   "metadata": {},
   "outputs": [
    {
     "data": {
      "text/html": [
       "<div>\n",
       "<style scoped>\n",
       "    .dataframe tbody tr th:only-of-type {\n",
       "        vertical-align: middle;\n",
       "    }\n",
       "\n",
       "    .dataframe tbody tr th {\n",
       "        vertical-align: top;\n",
       "    }\n",
       "\n",
       "    .dataframe thead th {\n",
       "        text-align: right;\n",
       "    }\n",
       "</style>\n",
       "<table border=\"1\" class=\"dataframe\">\n",
       "  <thead>\n",
       "    <tr style=\"text-align: right;\">\n",
       "      <th></th>\n",
       "      <th>age</th>\n",
       "      <th>sex</th>\n",
       "      <th>bmi</th>\n",
       "      <th>children</th>\n",
       "      <th>smoker</th>\n",
       "      <th>charges</th>\n",
       "      <th>northeast</th>\n",
       "      <th>northwest</th>\n",
       "      <th>southeast</th>\n",
       "      <th>southwest</th>\n",
       "    </tr>\n",
       "  </thead>\n",
       "  <tbody>\n",
       "    <tr>\n",
       "      <th>0</th>\n",
       "      <td>19</td>\n",
       "      <td>1</td>\n",
       "      <td>27.900</td>\n",
       "      <td>0</td>\n",
       "      <td>0</td>\n",
       "      <td>16884.92400</td>\n",
       "      <td>0</td>\n",
       "      <td>0</td>\n",
       "      <td>0</td>\n",
       "      <td>1</td>\n",
       "    </tr>\n",
       "    <tr>\n",
       "      <th>1</th>\n",
       "      <td>18</td>\n",
       "      <td>0</td>\n",
       "      <td>33.770</td>\n",
       "      <td>1</td>\n",
       "      <td>1</td>\n",
       "      <td>1725.55230</td>\n",
       "      <td>0</td>\n",
       "      <td>0</td>\n",
       "      <td>1</td>\n",
       "      <td>0</td>\n",
       "    </tr>\n",
       "    <tr>\n",
       "      <th>2</th>\n",
       "      <td>28</td>\n",
       "      <td>0</td>\n",
       "      <td>33.000</td>\n",
       "      <td>3</td>\n",
       "      <td>1</td>\n",
       "      <td>4449.46200</td>\n",
       "      <td>0</td>\n",
       "      <td>0</td>\n",
       "      <td>1</td>\n",
       "      <td>0</td>\n",
       "    </tr>\n",
       "    <tr>\n",
       "      <th>3</th>\n",
       "      <td>33</td>\n",
       "      <td>0</td>\n",
       "      <td>22.705</td>\n",
       "      <td>0</td>\n",
       "      <td>1</td>\n",
       "      <td>21984.47061</td>\n",
       "      <td>0</td>\n",
       "      <td>1</td>\n",
       "      <td>0</td>\n",
       "      <td>0</td>\n",
       "    </tr>\n",
       "    <tr>\n",
       "      <th>4</th>\n",
       "      <td>32</td>\n",
       "      <td>0</td>\n",
       "      <td>28.880</td>\n",
       "      <td>0</td>\n",
       "      <td>1</td>\n",
       "      <td>3866.85520</td>\n",
       "      <td>0</td>\n",
       "      <td>1</td>\n",
       "      <td>0</td>\n",
       "      <td>0</td>\n",
       "    </tr>\n",
       "    <tr>\n",
       "      <th>...</th>\n",
       "      <td>...</td>\n",
       "      <td>...</td>\n",
       "      <td>...</td>\n",
       "      <td>...</td>\n",
       "      <td>...</td>\n",
       "      <td>...</td>\n",
       "      <td>...</td>\n",
       "      <td>...</td>\n",
       "      <td>...</td>\n",
       "      <td>...</td>\n",
       "    </tr>\n",
       "    <tr>\n",
       "      <th>1333</th>\n",
       "      <td>50</td>\n",
       "      <td>0</td>\n",
       "      <td>30.970</td>\n",
       "      <td>3</td>\n",
       "      <td>1</td>\n",
       "      <td>10600.54830</td>\n",
       "      <td>0</td>\n",
       "      <td>1</td>\n",
       "      <td>0</td>\n",
       "      <td>0</td>\n",
       "    </tr>\n",
       "    <tr>\n",
       "      <th>1334</th>\n",
       "      <td>18</td>\n",
       "      <td>1</td>\n",
       "      <td>31.920</td>\n",
       "      <td>0</td>\n",
       "      <td>1</td>\n",
       "      <td>2205.98080</td>\n",
       "      <td>1</td>\n",
       "      <td>0</td>\n",
       "      <td>0</td>\n",
       "      <td>0</td>\n",
       "    </tr>\n",
       "    <tr>\n",
       "      <th>1335</th>\n",
       "      <td>18</td>\n",
       "      <td>1</td>\n",
       "      <td>36.850</td>\n",
       "      <td>0</td>\n",
       "      <td>1</td>\n",
       "      <td>1629.83350</td>\n",
       "      <td>0</td>\n",
       "      <td>0</td>\n",
       "      <td>1</td>\n",
       "      <td>0</td>\n",
       "    </tr>\n",
       "    <tr>\n",
       "      <th>1336</th>\n",
       "      <td>21</td>\n",
       "      <td>1</td>\n",
       "      <td>25.800</td>\n",
       "      <td>0</td>\n",
       "      <td>1</td>\n",
       "      <td>2007.94500</td>\n",
       "      <td>0</td>\n",
       "      <td>0</td>\n",
       "      <td>0</td>\n",
       "      <td>1</td>\n",
       "    </tr>\n",
       "    <tr>\n",
       "      <th>1337</th>\n",
       "      <td>61</td>\n",
       "      <td>1</td>\n",
       "      <td>29.070</td>\n",
       "      <td>0</td>\n",
       "      <td>0</td>\n",
       "      <td>29141.36030</td>\n",
       "      <td>0</td>\n",
       "      <td>1</td>\n",
       "      <td>0</td>\n",
       "      <td>0</td>\n",
       "    </tr>\n",
       "  </tbody>\n",
       "</table>\n",
       "<p>1338 rows × 10 columns</p>\n",
       "</div>"
      ],
      "text/plain": [
       "      age  sex     bmi  children  smoker      charges  northeast  northwest  \\\n",
       "0      19    1  27.900         0       0  16884.92400          0          0   \n",
       "1      18    0  33.770         1       1   1725.55230          0          0   \n",
       "2      28    0  33.000         3       1   4449.46200          0          0   \n",
       "3      33    0  22.705         0       1  21984.47061          0          1   \n",
       "4      32    0  28.880         0       1   3866.85520          0          1   \n",
       "...   ...  ...     ...       ...     ...          ...        ...        ...   \n",
       "1333   50    0  30.970         3       1  10600.54830          0          1   \n",
       "1334   18    1  31.920         0       1   2205.98080          1          0   \n",
       "1335   18    1  36.850         0       1   1629.83350          0          0   \n",
       "1336   21    1  25.800         0       1   2007.94500          0          0   \n",
       "1337   61    1  29.070         0       0  29141.36030          0          1   \n",
       "\n",
       "      southeast  southwest  \n",
       "0             0          1  \n",
       "1             1          0  \n",
       "2             1          0  \n",
       "3             0          0  \n",
       "4             0          0  \n",
       "...         ...        ...  \n",
       "1333          0          0  \n",
       "1334          0          0  \n",
       "1335          1          0  \n",
       "1336          0          1  \n",
       "1337          0          0  \n",
       "\n",
       "[1338 rows x 10 columns]"
      ]
     },
     "execution_count": 9,
     "metadata": {},
     "output_type": "execute_result"
    }
   ],
   "source": [
    "#ordinal encoding of categorical data\n",
    "\n",
    "df_i['sex'].replace(['female', 'male'],[1,0],inplace=True)\n",
    "df_i['smoker'].replace(['yes', 'no'],[0,1],inplace=True)\n",
    "#df_i['region'].replace(['northeast', 'northwest','southwest','southeast'],[0,1,2,3],inplace=True)\n",
    "temp = pd.get_dummies(df_i['region'])\n",
    "df_i = df_i.drop('region',axis = 1)\n",
    "df_i = df_i.join(temp)\n",
    "df_i "
   ]
  },
  {
   "cell_type": "code",
   "execution_count": 10,
   "id": "baee418c",
   "metadata": {},
   "outputs": [
    {
     "data": {
      "image/png": "[encoded data removed]",
      "text/plain": [
       "<Figure size 432x288 with 2 Axes>"
      ]
     },
     "metadata": {
      "needs_background": "light"
     },
     "output_type": "display_data"
    }
   ],
   "source": [
    "sn.heatmap(df_i.corr(),annot=True)\n",
    "plt.show()"
   ]
  },
  {
   "cell_type": "code",
   "execution_count": 11,
   "id": "259c71a7",
   "metadata": {},
   "outputs": [],
   "source": [
    "#Data normilisation\n",
    "df_i['bmi'] = (df_i['bmi']-df_i['bmi'].min())/(df_i['bmi'].max()-df_i['bmi'].min())\n",
    "df_i['age'] = (df_i['age']-df_i['age'].min())/(df_i['age'].max()-df_i['age'].min())\n",
    "df_i['children'] = (df_i['children']-df_i['children'].min())/(df_i['children'].max()-df_i['children'].min())\n"
   ]
  },
  {
   "cell_type": "code",
   "execution_count": 12,
   "id": "076c4105",
   "metadata": {},
   "outputs": [
    {
     "data": {
      "text/html": [
       "<div>\n",
       "<style scoped>\n",
       "    .dataframe tbody tr th:only-of-type {\n",
       "        vertical-align: middle;\n",
       "    }\n",
       "\n",
       "    .dataframe tbody tr th {\n",
       "        vertical-align: top;\n",
       "    }\n",
       "\n",
       "    .dataframe thead th {\n",
       "        text-align: right;\n",
       "    }\n",
       "</style>\n",
       "<table border=\"1\" class=\"dataframe\">\n",
       "  <thead>\n",
       "    <tr style=\"text-align: right;\">\n",
       "      <th></th>\n",
       "      <th>age</th>\n",
       "      <th>sex</th>\n",
       "      <th>bmi</th>\n",
       "      <th>children</th>\n",
       "      <th>smoker</th>\n",
       "      <th>charges</th>\n",
       "      <th>northeast</th>\n",
       "      <th>northwest</th>\n",
       "      <th>southeast</th>\n",
       "      <th>southwest</th>\n",
       "    </tr>\n",
       "  </thead>\n",
       "  <tbody>\n",
       "    <tr>\n",
       "      <th>0</th>\n",
       "      <td>0.021739</td>\n",
       "      <td>1</td>\n",
       "      <td>0.321227</td>\n",
       "      <td>0.0</td>\n",
       "      <td>0</td>\n",
       "      <td>16884.92400</td>\n",
       "      <td>0</td>\n",
       "      <td>0</td>\n",
       "      <td>0</td>\n",
       "      <td>1</td>\n",
       "    </tr>\n",
       "    <tr>\n",
       "      <th>1</th>\n",
       "      <td>0.000000</td>\n",
       "      <td>0</td>\n",
       "      <td>0.479150</td>\n",
       "      <td>0.2</td>\n",
       "      <td>1</td>\n",
       "      <td>1725.55230</td>\n",
       "      <td>0</td>\n",
       "      <td>0</td>\n",
       "      <td>1</td>\n",
       "      <td>0</td>\n",
       "    </tr>\n",
       "    <tr>\n",
       "      <th>2</th>\n",
       "      <td>0.217391</td>\n",
       "      <td>0</td>\n",
       "      <td>0.458434</td>\n",
       "      <td>0.6</td>\n",
       "      <td>1</td>\n",
       "      <td>4449.46200</td>\n",
       "      <td>0</td>\n",
       "      <td>0</td>\n",
       "      <td>1</td>\n",
       "      <td>0</td>\n",
       "    </tr>\n",
       "    <tr>\n",
       "      <th>3</th>\n",
       "      <td>0.326087</td>\n",
       "      <td>0</td>\n",
       "      <td>0.181464</td>\n",
       "      <td>0.0</td>\n",
       "      <td>1</td>\n",
       "      <td>21984.47061</td>\n",
       "      <td>0</td>\n",
       "      <td>1</td>\n",
       "      <td>0</td>\n",
       "      <td>0</td>\n",
       "    </tr>\n",
       "    <tr>\n",
       "      <th>4</th>\n",
       "      <td>0.304348</td>\n",
       "      <td>0</td>\n",
       "      <td>0.347592</td>\n",
       "      <td>0.0</td>\n",
       "      <td>1</td>\n",
       "      <td>3866.85520</td>\n",
       "      <td>0</td>\n",
       "      <td>1</td>\n",
       "      <td>0</td>\n",
       "      <td>0</td>\n",
       "    </tr>\n",
       "    <tr>\n",
       "      <th>...</th>\n",
       "      <td>...</td>\n",
       "      <td>...</td>\n",
       "      <td>...</td>\n",
       "      <td>...</td>\n",
       "      <td>...</td>\n",
       "      <td>...</td>\n",
       "      <td>...</td>\n",
       "      <td>...</td>\n",
       "      <td>...</td>\n",
       "      <td>...</td>\n",
       "    </tr>\n",
       "    <tr>\n",
       "      <th>1333</th>\n",
       "      <td>0.695652</td>\n",
       "      <td>0</td>\n",
       "      <td>0.403820</td>\n",
       "      <td>0.6</td>\n",
       "      <td>1</td>\n",
       "      <td>10600.54830</td>\n",
       "      <td>0</td>\n",
       "      <td>1</td>\n",
       "      <td>0</td>\n",
       "      <td>0</td>\n",
       "    </tr>\n",
       "    <tr>\n",
       "      <th>1334</th>\n",
       "      <td>0.000000</td>\n",
       "      <td>1</td>\n",
       "      <td>0.429379</td>\n",
       "      <td>0.0</td>\n",
       "      <td>1</td>\n",
       "      <td>2205.98080</td>\n",
       "      <td>1</td>\n",
       "      <td>0</td>\n",
       "      <td>0</td>\n",
       "      <td>0</td>\n",
       "    </tr>\n",
       "    <tr>\n",
       "      <th>1335</th>\n",
       "      <td>0.000000</td>\n",
       "      <td>1</td>\n",
       "      <td>0.562012</td>\n",
       "      <td>0.0</td>\n",
       "      <td>1</td>\n",
       "      <td>1629.83350</td>\n",
       "      <td>0</td>\n",
       "      <td>0</td>\n",
       "      <td>1</td>\n",
       "      <td>0</td>\n",
       "    </tr>\n",
       "    <tr>\n",
       "      <th>1336</th>\n",
       "      <td>0.065217</td>\n",
       "      <td>1</td>\n",
       "      <td>0.264730</td>\n",
       "      <td>0.0</td>\n",
       "      <td>1</td>\n",
       "      <td>2007.94500</td>\n",
       "      <td>0</td>\n",
       "      <td>0</td>\n",
       "      <td>0</td>\n",
       "      <td>1</td>\n",
       "    </tr>\n",
       "    <tr>\n",
       "      <th>1337</th>\n",
       "      <td>0.934783</td>\n",
       "      <td>1</td>\n",
       "      <td>0.352704</td>\n",
       "      <td>0.0</td>\n",
       "      <td>0</td>\n",
       "      <td>29141.36030</td>\n",
       "      <td>0</td>\n",
       "      <td>1</td>\n",
       "      <td>0</td>\n",
       "      <td>0</td>\n",
       "    </tr>\n",
       "  </tbody>\n",
       "</table>\n",
       "<p>1338 rows × 10 columns</p>\n",
       "</div>"
      ],
      "text/plain": [
       "           age  sex       bmi  children  smoker      charges  northeast  \\\n",
       "0     0.021739    1  0.321227       0.0       0  16884.92400          0   \n",
       "1     0.000000    0  0.479150       0.2       1   1725.55230          0   \n",
       "2     0.217391    0  0.458434       0.6       1   4449.46200          0   \n",
       "3     0.326087    0  0.181464       0.0       1  21984.47061          0   \n",
       "4     0.304348    0  0.347592       0.0       1   3866.85520          0   \n",
       "...        ...  ...       ...       ...     ...          ...        ...   \n",
       "1333  0.695652    0  0.403820       0.6       1  10600.54830          0   \n",
       "1334  0.000000    1  0.429379       0.0       1   2205.98080          1   \n",
       "1335  0.000000    1  0.562012       0.0       1   1629.83350          0   \n",
       "1336  0.065217    1  0.264730       0.0       1   2007.94500          0   \n",
       "1337  0.934783    1  0.352704       0.0       0  29141.36030          0   \n",
       "\n",
       "      northwest  southeast  southwest  \n",
       "0             0          0          1  \n",
       "1             0          1          0  \n",
       "2             0          1          0  \n",
       "3             1          0          0  \n",
       "4             1          0          0  \n",
       "...         ...        ...        ...  \n",
       "1333          1          0          0  \n",
       "1334          0          0          0  \n",
       "1335          0          1          0  \n",
       "1336          0          0          1  \n",
       "1337          1          0          0  \n",
       "\n",
       "[1338 rows x 10 columns]"
      ]
     },
     "execution_count": 12,
     "metadata": {},
     "output_type": "execute_result"
    }
   ],
   "source": [
    "df_i"
   ]
  },
  {
   "cell_type": "code",
   "execution_count": 13,
   "id": "bf538f6a",
   "metadata": {},
   "outputs": [
    {
     "name": "stdout",
     "output_type": "stream",
     "text": [
      "X_train : (1070, 9)\n",
      "X_test : (268, 9)\n",
      "Y_train : (1070,)\n",
      "Y_test:(268,)\n"
     ]
    }
   ],
   "source": [
    "#Splitting into train and test\n",
    "np.random.seed(221)\n",
    "df_i_new= df_i.sample(frac=1)\n",
    "\n",
    "X=  df_i_new.drop(labels=['charges'],axis = 1)\n",
    "Y= df_i_new['charges']\n",
    "indi = range(X.shape[0])\n",
    "train_num = int(0.8 * X.shape[0])\n",
    "train_indi = indi[:train_num]\n",
    "test_indi = indi[train_num:]\n",
    "X_train, X_test = X.iloc[train_indi], X.iloc[test_indi]\n",
    "Y_train, Y_test = Y.iloc[train_indi], Y.iloc[test_indi]\n",
    "\n",
    "print(f'X_train : {X_train.shape}')\n",
    "print(f'X_test : {X_test.shape}')\n",
    "print(f'Y_train : {Y_train.shape}')\n",
    "print(f'Y_test:{ Y_test.shape}')\n",
    "\n",
    "#print(X_train[0:10])\n",
    "#print(Y_train)"
   ]
  },
  {
   "cell_type": "code",
   "execution_count": 14,
   "id": "b51bd730",
   "metadata": {},
   "outputs": [],
   "source": [
    "X_train=X_train.to_numpy()\n",
    "X_test.to_numpy()\n",
    "Y_test=Y_test.tolist()\n",
    "Y_train=Y_train.tolist()"
   ]
  },
  {
   "cell_type": "code",
   "execution_count": 15,
   "id": "3c8ef191",
   "metadata": {},
   "outputs": [],
   "source": [
    "#Linear Regression\n",
    "\n",
    "class Linear_Regression():\n",
    "    \n",
    "    def __init__(self):\n",
    "        print ('')   \n",
    "        \n",
    "    def fit(self,X,Y):\n",
    "        #y=np.array(Y)\n",
    "        w=[]\n",
    "        #print(y)\n",
    "        w = np.linalg.inv(np.transpose(X).dot(X))\n",
    "        w = w.dot(np.transpose(X)).dot(Y)\n",
    "        return w\n",
    "    \n",
    "    def meansquareerror(self,Y,y_pred):\n",
    "        sum_e=0\n",
    "        loss = ((Y - y_pred)**2)\n",
    "        for i in loss:\n",
    "            sum_e = sum_e+i\n",
    "        return sum_e/len(Y)\n",
    "    \n",
    "    def loss_function(self,Y,y_pred):\n",
    "        sum_e=0\n",
    "        loss = ((Y - y_pred)**2)\n",
    "        for i in loss:\n",
    "            sum_e = sum_e+i\n",
    "        return sum_e/2\n",
    "\n",
    "    def predict(self,x_test,w):\n",
    "        y_pred = np.dot(x_test,w)\n",
    "        return y_pred\n"
   ]
  },
  {
   "cell_type": "code",
   "execution_count": 16,
   "id": "c725309d",
   "metadata": {},
   "outputs": [
    {
     "name": "stdout",
     "output_type": "stream",
     "text": [
      "\n",
      "Weight vector is   [ 12258.00380327    158.13654934  12240.70795977   2148.1245071\n",
      " -24244.31130187  22347.70932632  21843.0740251   20980.19858553\n",
      "  21406.02999669]\n"
     ]
    }
   ],
   "source": [
    "model = Linear_Regression()\n",
    "weights = model.fit(X_train,Y_train)\n",
    "\n",
    "print(f'Weight vector is   {weights}')"
   ]
  },
  {
   "cell_type": "code",
   "execution_count": 17,
   "id": "1d2ab8a8",
   "metadata": {},
   "outputs": [
    {
     "name": "stdout",
     "output_type": "stream",
     "text": [
      " MSE for linear Regression is : 37397875.71275678\n",
      " Loss value for linear Regression is :5011315345.509409\n"
     ]
    }
   ],
   "source": [
    "ypred = model.predict(X_test,weights)\n",
    "\n",
    "linear_mse = model.meansquareerror(Y_test,ypred)\n",
    "\n",
    "linear_loss = model.loss_function(Y_test,ypred)\n",
    "print(f' MSE for linear Regression is : {linear_mse}')\n",
    "print(f' Loss value for linear Regression is :{linear_loss}')"
   ]
  },
  {
   "cell_type": "code",
   "execution_count": 18,
   "id": "70359702",
   "metadata": {},
   "outputs": [
    {
     "data": {
      "image/png": "[encoded data removed]",
      "text/plain": [
       "<Figure size 432x288 with 1 Axes>"
      ]
     },
     "metadata": {
      "needs_background": "light"
     },
     "output_type": "display_data"
    }
   ],
   "source": [
    "plt.scatter(Y_test,ypred)\n",
    "plt.xlabel(\"Actual\")\n",
    "plt.ylabel('Predicted')\n",
    "plt.title('Actual Vs Predicted')\n",
    "plt.show()"
   ]
  },
  {
   "cell_type": "markdown",
   "id": "6b51706c",
   "metadata": {},
   "source": [
    "# Ridge regression"
   ]
  },
  {
   "cell_type": "code",
   "execution_count": 19,
   "id": "3389f8a2",
   "metadata": {},
   "outputs": [],
   "source": [
    "class Ridge_Regression():\n",
    "    \n",
    "    def __init__(self,X,Y,lambda_value):\n",
    "        self.X = X\n",
    "        self.Y = Y\n",
    "        self.lambda_value=lambda_value\n",
    "        \n",
    "    def ridgefit(self):\n",
    "        \n",
    "        w1 = np.linalg.inv(np.transpose(X).dot(X)+self.lambda_value*np.identity(self.X.shape[1]))\n",
    "        w1 = w1.dot(np.transpose(X)).dot(Y)\n",
    "        return w1\n",
    "        \n",
    "    def meansquareerror(self,Y,y_pred):\n",
    "        sum_e=0\n",
    "        loss = ((Y - y_pred)**2)\n",
    "        for i in loss:\n",
    "            sum_e = sum_e+i\n",
    "        return sum_e/len(Y)\n",
    "\n",
    "    def predict(self,x_test,w):\n",
    "        y_pred = np.dot(x_test,w)\n",
    "        return y_pred\n",
    "    \n",
    "    def loss_function(self,y_c,y_pred_c,w):\n",
    "        temp = self.lambda_value * np.dot(w.T,w)\n",
    "        temp_1 = np.dot((y_c-y_pred_c).T,(y_c-y_pred_c))\n",
    "        return((1/2)*(temp_1+temp))\n",
    "    \n",
    "   "
   ]
  },
  {
   "cell_type": "code",
   "execution_count": 20,
   "id": "03abec29",
   "metadata": {},
   "outputs": [
    {
     "name": "stdout",
     "output_type": "stream",
     "text": [
      "Weight vector is [ 12104.40319312    330.40524582  13590.41833716   2747.36558325\n",
      " -23080.14907099  20420.82097678  20039.54515889  19333.31089804\n",
      "  19399.52760377]\n"
     ]
    }
   ],
   "source": [
    "rmodel =Ridge_Regression(X_train,Y_train,2)\n",
    "ridge_weigths= rmodel.ridgefit()\n",
    "print(f'Weight vector is {ridge_weigths}')"
   ]
  },
  {
   "cell_type": "code",
   "execution_count": 21,
   "id": "606841fb",
   "metadata": {},
   "outputs": [
    {
     "name": "stdout",
     "output_type": "stream",
     "text": [
      " MSE for Ridge Regression is :36369644.60744127\n",
      " Loss value for Ridge Regression is : 7313810772.121571\n"
     ]
    }
   ],
   "source": [
    "rypred = rmodel.predict(X_test,ridge_weigths)\n",
    "ridge_mse = rmodel.meansquareerror(Y_test,rypred)\n",
    "ridge_loss=rmodel.loss_function(Y_test,rypred,ridge_weigths)\n",
    "\n",
    "print(f' MSE for Ridge Regression is :{ridge_mse}')\n",
    "print(f' Loss value for Ridge Regression is : {ridge_loss}')"
   ]
  },
  {
   "cell_type": "code",
   "execution_count": 22,
   "id": "1e017ec5",
   "metadata": {},
   "outputs": [
    {
     "data": {
      "image/png": "[encoded data removed]",
      "text/plain": [
       "<Figure size 432x288 with 1 Axes>"
      ]
     },
     "metadata": {
      "needs_background": "light"
     },
     "output_type": "display_data"
    }
   ],
   "source": [
    "plt.scatter(Y_test,rypred)\n",
    "plt.xlabel(\"Actual\")\n",
    "plt.ylabel('Predicted')\n",
    "plt.title('Actual vs Predicted')\n",
    "plt.show()"
   ]
  },
  {
   "cell_type": "markdown",
   "id": "8aa60064",
   "metadata": {},
   "source": [
    "# Bonus"
   ]
  },
  {
   "cell_type": "code",
   "execution_count": 23,
   "id": "4748da80",
   "metadata": {},
   "outputs": [],
   "source": [
    "class Ridge_Regression_gradient():\n",
    "    \n",
    "    def __init__(self,X,Y,rate,number_iterations,lambda_value):\n",
    "        self.X = X\n",
    "        self.Y = Y\n",
    "        self.rate = rate\n",
    "        self.number_iterations = number_iterations\n",
    "        self.lambda_value = lambda_value\n",
    "        \n",
    "    def gradient_decent(self,w0):\n",
    "        w1 = np.dot(self.X.T,(np.dot(self.X,w0))-(self.Y))\n",
    "        new_w =(w1+self.lambda_value*np.sum(w0))/len(self.Y)\n",
    "        return new_w\n",
    "    \n",
    "    def fit(self):\n",
    "        w = np.random.uniform(0,1,size =self.X.shape[1]).astype(float)\n",
    "        \n",
    "        for i in range(0,self.number_iterations):\n",
    "            w_new=self.gradient_decent(w)\n",
    "            w = w - (self.rate * w_new)\n",
    "        return w\n",
    "        \n",
    "    def meansquareerror(self,Y,y_pred):\n",
    "        sum_e=0\n",
    "        loss = ((Y - y_pred)**2)\n",
    "        for i in loss:\n",
    "            sum_e = sum_e+i\n",
    "        return sum_e/len(Y)\n",
    "\n",
    "    def predict(self,x_test,w):\n",
    "        y_pred = np.dot(x_test,w)\n",
    "        return y_pred\n",
    "    \n",
    "    def loss_function(self,y_c,y_pred_c,w):\n",
    "        temp = self.lambda_value * np.dot(w.T,w)\n",
    "        temp_1 = np.dot((y_c-y_pred_c).T,(y_c-y_pred_c))\n",
    "        return((1/2)*(temp_1+temp))\n",
    "    "
   ]
  },
  {
   "cell_type": "code",
   "execution_count": 24,
   "id": "54d13605",
   "metadata": {},
   "outputs": [
    {
     "name": "stdout",
     "output_type": "stream",
     "text": [
      "Time taken to run gradient descent : 6.596345901489258\n",
      "Weight vector is [ 13463.97947929    687.58431303  15370.67003021   1637.19899666\n",
      " -22185.14860671  18227.33625017  17785.36493575  16728.45909205\n",
      "  17124.51461964]\n"
     ]
    }
   ],
   "source": [
    "ridge_gradient_model = Ridge_Regression_gradient(X_train,Y_train,1,100000,2)\n",
    "start_time = time.time()\n",
    "ridge_gradient_weigths = ridge_gradient_model.fit()\n",
    "end_time = time.time()\n",
    "print(f'Time taken to run gradient descent : {end_time - start_time}')\n",
    "print(f'Weight vector is {ridge_gradient_weigths}')"
   ]
  },
  {
   "cell_type": "code",
   "execution_count": 25,
   "id": "bbf569b1",
   "metadata": {},
   "outputs": [
    {
     "name": "stdout",
     "output_type": "stream",
     "text": [
      "Train  MSE for Ridge Regression with gradient descent is :37898266.11659862\n",
      "Train Loss value for Ridge Regression with gradient descent is :22410087961.647438\n"
     ]
    }
   ],
   "source": [
    "y_pred_gradient_train = ridge_gradient_model.predict(X_train,ridge_gradient_weigths)\n",
    "ridge_gradient_mse_train = ridge_gradient_model.meansquareerror(Y_train,y_pred_gradient_train )\n",
    "ridge_gradient_loss_train=ridge_gradient_model.loss_function(Y_train,y_pred_gradient_train ,ridge_gradient_weigths)\n",
    "print(f'Train  MSE for Ridge Regression with gradient descent is :{ridge_gradient_mse_train}')\n",
    "print(f'Train Loss value for Ridge Regression with gradient descent is :{ridge_gradient_loss_train}')"
   ]
  },
  {
   "cell_type": "code",
   "execution_count": 26,
   "id": "c4164265",
   "metadata": {},
   "outputs": [
    {
     "name": "stdout",
     "output_type": "stream",
     "text": [
      " MSE for Ridge Regression with gradient descent is :37591138.63423613\n",
      " Loss value for Ridge Regression with gradient descent is :7171728166.254821\n"
     ]
    }
   ],
   "source": [
    "y_pred_gradient = ridge_gradient_model.predict(X_test,ridge_gradient_weigths)\n",
    "ridge_gradient_mse = ridge_gradient_model .meansquareerror(Y_test,y_pred_gradient )\n",
    "ridge_gradient_loss=ridge_gradient_model .loss_function(Y_test,y_pred_gradient ,ridge_gradient_weigths)\n",
    "print(f' MSE for Ridge Regression with gradient descent is :{ridge_gradient_mse}')\n",
    "print(f' Loss value for Ridge Regression with gradient descent is :{ridge_gradient_loss}')"
   ]
  },
  {
   "cell_type": "code",
   "execution_count": 27,
   "id": "65af72ef",
   "metadata": {},
   "outputs": [
    {
     "name": "stdout",
     "output_type": "stream",
     "text": [
      " Time taken to run in build gradient descent : 0.004287004470825195\n"
     ]
    }
   ],
   "source": [
    "import time\n",
    "from sklearn.linear_model import Ridge\n",
    "from sklearn.metrics import mean_squared_error\n",
    "ridgefit = Ridge(alpha=0.1)\n",
    "start_time = time.time()\n",
    "ridgefit.fit(X_train, Y_train)\n",
    "end_time = time.time()\n",
    "print(f' Time taken to run in build gradient descent : {end_time - start_time}')\n"
   ]
  },
  {
   "cell_type": "code",
   "execution_count": 28,
   "id": "2a89f260",
   "metadata": {},
   "outputs": [
    {
     "name": "stdout",
     "output_type": "stream",
     "text": [
      " Train MSE of in build gradient descent is 36380845.46681989\n"
     ]
    }
   ],
   "source": [
    "ridge_pred_y_train = ridgefit.predict(X_train)\n",
    "mse_inbuilt_train=mean_squared_error(Y_train,ridge_pred_y_train)\n",
    "print(f' Train MSE of in build gradient descent is {mse_inbuilt_train}')"
   ]
  },
  {
   "cell_type": "code",
   "execution_count": 29,
   "id": "58fdd452",
   "metadata": {},
   "outputs": [
    {
     "name": "stdout",
     "output_type": "stream",
     "text": [
      "MSE of in build gradient descent is 37387758.56272927\n"
     ]
    }
   ],
   "source": [
    "ridge_pred_y = ridgefit.predict(X_test)\n",
    "mse_inbuilt=mean_squared_error(Y_test,ridge_pred_y)\n",
    "print(f'MSE of in build gradient descent is {mse_inbuilt}')"
   ]
  },
  {
   "cell_type": "code",
   "execution_count": null,
   "id": "b52dc7ce",
   "metadata": {},
   "outputs": [],
   "source": []
  }
 ],
 "metadata": {
  "kernelspec": {
   "display_name": "Python 3 (ipykernel)",
   "language": "python",
   "name": "python3"
  },
  "language_info": {
   "codemirror_mode": {
    "name": "ipython",
    "version": 3
   },
   "file_extension": ".py",
   "mimetype": "text/x-python",
   "name": "python",
   "nbconvert_exporter": "python",
   "pygments_lexer": "ipython3",
   "version": "3.9.7"
  }
 },
 "nbformat": 4,
 "nbformat_minor": 5
}
